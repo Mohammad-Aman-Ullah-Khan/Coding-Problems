{
 "cells": [
  {
   "cell_type": "markdown",
   "id": "881c1eeb",
   "metadata": {},
   "source": [
    "# Coding Problems Solved in Python"
   ]
  },
  {
   "cell_type": "markdown",
   "metadata": {},
   "source": [
    "BASIC AND MATH"
   ]
  },
  {
   "cell_type": "markdown",
   "metadata": {},
   "source": [
    "Convert km to miles"
   ]
  },
  {
   "cell_type": "code",
   "execution_count": 10,
   "metadata": {},
   "outputs": [
    {
     "name": "stdout",
     "output_type": "stream",
     "text": [
      "Speed in miles is 124.2\n"
     ]
    }
   ],
   "source": [
    "inkm = float(input(\"enter speed in km\"))\n",
    "inmiles = inkm*(.621)\n",
    "print(\"Speed in miles is\",inmiles)"
   ]
  },
  {
   "cell_type": "markdown",
   "metadata": {},
   "source": [
    "Area of Triangle"
   ]
  },
  {
   "cell_type": "code",
   "execution_count": 11,
   "metadata": {},
   "outputs": [
    {
     "name": "stdout",
     "output_type": "stream",
     "text": [
      "area of triangle is 904.0\n"
     ]
    }
   ],
   "source": [
    "height,base = map(float,input(\"enter base and height\").split())\n",
    "area = (1/2)*base*height\n",
    "print(\"area of triangle is\",area)"
   ]
  },
  {
   "cell_type": "markdown",
   "metadata": {},
   "source": [
    "Area of Circle"
   ]
  },
  {
   "cell_type": "code",
   "execution_count": 11,
   "metadata": {},
   "outputs": [
    {
     "name": "stdout",
     "output_type": "stream",
     "text": [
      "Area of circle is 34.819146\n"
     ]
    }
   ],
   "source": [
    "r = float(input(\"Enter radius of circle\"))\n",
    "Area = 3.14*r*r\n",
    "print(\"Area of circle is\",Area)"
   ]
  },
  {
   "cell_type": "markdown",
   "id": "350f2a11",
   "metadata": {},
   "source": [
    "1.SwapTwoInteger"
   ]
  },
  {
   "cell_type": "code",
   "execution_count": 2,
   "id": "5b824397",
   "metadata": {},
   "outputs": [
    {
     "name": "stdout",
     "output_type": "stream",
     "text": [
      "X is 4 Y is  3\n"
     ]
    }
   ],
   "source": [
    "X,Y = map(int,input(\"enter the numbers\").split())\n",
    "\n",
    "temp = X\n",
    "X = Y\n",
    "Y = temp\n",
    "print(\"X is\",X,\"Y is \",Y)"
   ]
  },
  {
   "cell_type": "markdown",
   "id": "2913c616",
   "metadata": {},
   "source": [
    "2.SwapWithoutTemp"
   ]
  },
  {
   "cell_type": "code",
   "execution_count": 1,
   "id": "2a29836e",
   "metadata": {},
   "outputs": [
    {
     "name": "stdout",
     "output_type": "stream",
     "text": [
      "X is 4 Y is  3\n"
     ]
    }
   ],
   "source": [
    "X,Y = map(int,input(\"enter the numbers\").split())\n",
    "X = X+Y\n",
    "Y = X-Y\n",
    "X= X-Y\n",
    "print(\"X is\",X,\"Y is \",Y)"
   ]
  },
  {
   "cell_type": "markdown",
   "metadata": {},
   "source": [
    "3.Square root of a no with exponenciation"
   ]
  },
  {
   "cell_type": "code",
   "execution_count": 9,
   "metadata": {},
   "outputs": [
    {
     "name": "stdout",
     "output_type": "stream",
     "text": [
      "square root of 64 is 8.0\n"
     ]
    }
   ],
   "source": [
    "num = int(input(\"enter a no\"))\n",
    "sroot = num**(1/2)\n",
    "print(\"square root of\",num,\"is\",sroot)"
   ]
  },
  {
   "cell_type": "markdown",
   "metadata": {},
   "source": [
    "Celsius to Fahrenheit program"
   ]
  },
  {
   "cell_type": "code",
   "execution_count": 17,
   "metadata": {},
   "outputs": [
    {
     "name": "stdout",
     "output_type": "stream",
     "text": [
      "Temperature in Fahrenheit : 89.6\n"
     ]
    }
   ],
   "source": [
    "celsius = int(input(\"Enter the Temperature in Celsius :\\n\"))\n",
    "fahrenheit = ((9/5) * celsius) + 32\n",
    "print(\"Temperature in Fahrenheit :\", fahrenheit)"
   ]
  },
  {
   "cell_type": "markdown",
   "metadata": {},
   "source": [
    "Fahrenheit to celcius"
   ]
  },
  {
   "cell_type": "code",
   "execution_count": 18,
   "metadata": {},
   "outputs": [
    {
     "name": "stdout",
     "output_type": "stream",
     "text": [
      "Temperature in celsius:  0.5555555555555556\n"
     ]
    }
   ],
   "source": [
    "Fahrenheit = float(input(\"Please enter temperature in fahrenheit:\"))\n",
    "celsius = (Fahrenheit - 32) * (5 / 9)\n",
    "print(\"Temperature in celsius: \" , celsius)"
   ]
  },
  {
   "cell_type": "markdown",
   "id": "e9ab6a50",
   "metadata": {},
   "source": [
    "1.Program - Find the sum of a 3 digit number entered by the user\n"
   ]
  },
  {
   "cell_type": "code",
   "execution_count": 1,
   "metadata": {},
   "outputs": [
    {
     "name": "stdout",
     "output_type": "stream",
     "text": [
      "sum of digits is 12\n"
     ]
    }
   ],
   "source": [
    "num = int(input(\"Enter a number\"))\n",
    "#321\n",
    "a = num%10 #a = 1\n",
    "b = num//10 #b = 32\n",
    "c = b%10 #c = 2\n",
    "b //= 10 # b =3\n",
    "print(\"sum of digits is\",a+b+c)\n"
   ]
  },
  {
   "cell_type": "markdown",
   "metadata": {},
   "source": [
    "IF ELSE"
   ]
  },
  {
   "cell_type": "markdown",
   "metadata": {},
   "source": [
    "2.Find the min of 3 given numbers"
   ]
  },
  {
   "cell_type": "code",
   "execution_count": 4,
   "metadata": {},
   "outputs": [
    {
     "name": "stdout",
     "output_type": "stream",
     "text": [
      "You entered nos X =  2 Y =  6 Z =  1\n",
      "Y is the greatest\n"
     ]
    }
   ],
   "source": [
    "X,Y,Z = map(int,input(\"Enter Three nos\").split())\n",
    "print(\"You entered nos\",\"X = \",X,\"Y = \",Y,\"Z = \",Z)\n",
    "if(X>Y and X>Z):\n",
    "    print(\"X is the greatest\")\n",
    "elif(Y>Z and Y>X):\n",
    "    print(\"Y is the greatest\")\n",
    "else:\n",
    "    print(\"Z is the greatest\")\n"
   ]
  },
  {
   "cell_type": "markdown",
   "metadata": {},
   "source": [
    "Check number is odd or even using %"
   ]
  },
  {
   "cell_type": "code",
   "execution_count": 3,
   "metadata": {},
   "outputs": [
    {
     "name": "stdout",
     "output_type": "stream",
     "text": [
      "number is odd\n"
     ]
    }
   ],
   "source": [
    "X = int(input(\"enter a number\"))\n",
    "if X%2 == 0:\n",
    "    print(\"number is even\")\n",
    "else:\n",
    "    print(\"number is odd\")"
   ]
  },
  {
   "cell_type": "markdown",
   "metadata": {},
   "source": [
    "Check number is odd even without %"
   ]
  },
  {
   "cell_type": "code",
   "execution_count": 4,
   "metadata": {},
   "outputs": [
    {
     "name": "stdout",
     "output_type": "stream",
     "text": [
      "X is odd\n"
     ]
    }
   ],
   "source": [
    "X = int(input(\"enter a number\"))\n",
    "if X/2 ==X//2:\n",
    "    print(\"X is even\")\n",
    "else:\n",
    "    print(\"X is odd\")"
   ]
  },
  {
   "cell_type": "markdown",
   "metadata": {},
   "source": [
    "Is a Number Positive Negative or Zero?"
   ]
  },
  {
   "cell_type": "code",
   "execution_count": 2,
   "metadata": {},
   "outputs": [
    {
     "name": "stdout",
     "output_type": "stream",
     "text": [
      "num is 0\n"
     ]
    }
   ],
   "source": [
    "num = int(input(\"enter a number\"))\n",
    "if num<0:\n",
    "    print(\"num is negative\")\n",
    "elif num>0:\n",
    "    print(\"num is positive\")\n",
    "else:\n",
    "    print(\"num is 0\")"
   ]
  },
  {
   "cell_type": "markdown",
   "metadata": {},
   "source": [
    "Check number is odd or even using bit"
   ]
  },
  {
   "cell_type": "code",
   "execution_count": 7,
   "metadata": {},
   "outputs": [
    {
     "name": "stdout",
     "output_type": "stream",
     "text": [
      "bin of X is 0b10\n",
      "X is even\n"
     ]
    }
   ],
   "source": [
    "X = int(input(\"enter a number\"))\n",
    "print(\"bin of X is\",bin(X))\n",
    "if X&1 ==True:\n",
    "    print(\"X is odd\")\n",
    "else:\n",
    "    print(\"X is even\")"
   ]
  },
  {
   "cell_type": "markdown",
   "metadata": {},
   "source": [
    "Leap Year Program"
   ]
  },
  {
   "cell_type": "code",
   "execution_count": 2,
   "metadata": {},
   "outputs": [
    {
     "name": "stdout",
     "output_type": "stream",
     "text": [
      "The year is a centuary leap year!\n"
     ]
    }
   ],
   "source": [
    "year=int(input(\"Enter year to be checked:\"))\n",
    "if (year%400==0):\n",
    "    print(\"The year is a centuary leap year!\")\n",
    "elif(year%4==0 and year%100!=0):\n",
    "    print(\"The year is a leap year!\")\n",
    "else:\n",
    "    print(\"The year isn't a leap year!\")"
   ]
  },
  {
   "cell_type": "markdown",
   "metadata": {},
   "source": []
  },
  {
   "cell_type": "markdown",
   "metadata": {},
   "source": [
    "LOOPS"
   ]
  },
  {
   "cell_type": "markdown",
   "metadata": {},
   "source": [
    "3.Print table of a no"
   ]
  },
  {
   "cell_type": "code",
   "execution_count": null,
   "metadata": {},
   "outputs": [],
   "source": [
    "num = int(input(\"enter a number\"))\n",
    "i = 1\n",
    "while i<11:\n",
    "    print(num,\"X\",i,\"=\",i*num)\n",
    "    i+=1"
   ]
  },
  {
   "cell_type": "markdown",
   "metadata": {},
   "source": [
    "4. Program - The current population of a town is 10000. The population of the town is increasing at the rate of 10% per year. You have to write a program to find out the population at the end of each of the last 10 years."
   ]
  },
  {
   "cell_type": "code",
   "execution_count": null,
   "metadata": {},
   "outputs": [],
   "source": [
    "curr_pop = 10000\n",
    "for i in range(1,11):\n",
    "    curr_pop = ( 10000+ .1*curr_pop)\n",
    "    total_pop = curr_pop\n",
    "    print(\"population for\",i,\"year\",\"is\",total_pop)"
   ]
  },
  {
   "cell_type": "markdown",
   "metadata": {},
   "source": [
    "5.Prime number between given range"
   ]
  },
  {
   "cell_type": "code",
   "execution_count": 3,
   "metadata": {},
   "outputs": [
    {
     "name": "stdout",
     "output_type": "stream",
     "text": [
      "2\n",
      "3\n",
      "5\n",
      "7\n"
     ]
    }
   ],
   "source": [
    "lower = int(input(\"enter lower range\"))\n",
    "upper = int(input(\"enter upper range\"))\n",
    "\n",
    "for i in range(lower,upper+1):\n",
    "    for j in range(2,i):\n",
    "        if i%j == 0:\n",
    "            break\n",
    "    else:\n",
    "            print(i)"
   ]
  },
  {
   "cell_type": "markdown",
   "metadata": {},
   "source": []
  }
 ],
 "metadata": {
  "kernelspec": {
   "display_name": "Python 3 (ipykernel)",
   "language": "python",
   "name": "python3"
  },
  "language_info": {
   "codemirror_mode": {
    "name": "ipython",
    "version": 3
   },
   "file_extension": ".py",
   "mimetype": "text/x-python",
   "name": "python",
   "nbconvert_exporter": "python",
   "pygments_lexer": "ipython3",
   "version": "3.10.8"
  }
 },
 "nbformat": 4,
 "nbformat_minor": 5
}
