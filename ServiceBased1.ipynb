{
 "cells": [
  {
   "cell_type": "markdown",
   "id": "881c1eeb",
   "metadata": {},
   "source": [
    "# Coding Problems Solved in Python"
   ]
  },
  {
   "cell_type": "markdown",
   "metadata": {},
   "source": [
    "BASIC AND MATH"
   ]
  },
  {
   "cell_type": "markdown",
   "id": "350f2a11",
   "metadata": {},
   "source": [
    "1.SwapTwoInteger"
   ]
  },
  {
   "cell_type": "code",
   "execution_count": 2,
   "id": "5b824397",
   "metadata": {},
   "outputs": [
    {
     "name": "stdout",
     "output_type": "stream",
     "text": [
      "X is 4 Y is  3\n"
     ]
    }
   ],
   "source": [
    "X,Y = map(int,input(\"enter the numbers\").split())\n",
    "\n",
    "temp = X\n",
    "X = Y\n",
    "Y = temp\n",
    "print(\"X is\",X,\"Y is \",Y)"
   ]
  },
  {
   "cell_type": "markdown",
   "id": "2913c616",
   "metadata": {},
   "source": [
    "2.SwapWithoutTemp"
   ]
  },
  {
   "cell_type": "code",
   "execution_count": 1,
   "id": "2a29836e",
   "metadata": {},
   "outputs": [
    {
     "name": "stdout",
     "output_type": "stream",
     "text": [
      "X is 4 Y is  3\n"
     ]
    }
   ],
   "source": [
    "X,Y = map(int,input(\"enter the numbers\").split())\n",
    "X = X+Y\n",
    "Y = X-Y\n",
    "X= X-Y\n",
    "print(\"X is\",X,\"Y is \",Y)"
   ]
  },
  {
   "cell_type": "markdown",
   "metadata": {},
   "source": [
    "IF ELSE"
   ]
  },
  {
   "cell_type": "markdown",
   "id": "e9ab6a50",
   "metadata": {},
   "source": [
    "1.Program - Find the sum of a 3 digit number entered by the user\n"
   ]
  },
  {
   "cell_type": "code",
   "execution_count": 1,
   "metadata": {},
   "outputs": [
    {
     "name": "stdout",
     "output_type": "stream",
     "text": [
      "sum of digits is 12\n"
     ]
    }
   ],
   "source": [
    "num = int(input(\"Enter a number\"))\n",
    "#321\n",
    "a = num%10 #a = 1\n",
    "b = num//10 #b = 32\n",
    "c = b%10 #c = 2\n",
    "b //= 10 # b =3\n",
    "print(\"sum of digits is\",a+b+c)\n"
   ]
  },
  {
   "cell_type": "markdown",
   "metadata": {},
   "source": [
    "2.Find the min of 3 given numbers"
   ]
  },
  {
   "cell_type": "code",
   "execution_count": 4,
   "metadata": {},
   "outputs": [
    {
     "name": "stdout",
     "output_type": "stream",
     "text": [
      "You entered nos X =  2 Y =  6 Z =  1\n",
      "Y is the greatest\n"
     ]
    }
   ],
   "source": [
    "X,Y,Z = map(int,input(\"Enter Three nos\").split())\n",
    "print(\"You entered nos\",\"X = \",X,\"Y = \",Y,\"Z = \",Z)\n",
    "if(X>Y and X>Z):\n",
    "    print(\"X is the greatest\")\n",
    "elif(Y>Z and Y>X):\n",
    "    print(\"Y is the greatest\")\n",
    "else:\n",
    "    print(\"Z is the greatest\")\n"
   ]
  },
  {
   "cell_type": "markdown",
   "metadata": {},
   "source": [
    "3.Print table of a no"
   ]
  },
  {
   "cell_type": "code",
   "execution_count": 5,
   "metadata": {},
   "outputs": [
    {
     "name": "stdout",
     "output_type": "stream",
     "text": [
      "3 X 1 = 3\n",
      "3 X 2 = 6\n",
      "3 X 3 = 9\n",
      "3 X 4 = 12\n",
      "3 X 5 = 15\n",
      "3 X 6 = 18\n",
      "3 X 7 = 21\n",
      "3 X 8 = 24\n",
      "3 X 9 = 27\n",
      "3 X 10 = 30\n"
     ]
    }
   ],
   "source": [
    "num = int(input(\"enter a number\"))\n",
    "i = 1\n",
    "while i<11:\n",
    "    print(num,\"X\",i,\"=\",i*num)\n",
    "    i+=1"
   ]
  },
  {
   "cell_type": "markdown",
   "metadata": {},
   "source": [
    "4. Program - The current population of a town is 10000. The population of the town is increasing at the rate of 10% per year. You have to write a program to find out the population at the end of each of the last 10 years."
   ]
  },
  {
   "cell_type": "markdown",
   "metadata": {},
   "source": []
  }
 ],
 "metadata": {
  "kernelspec": {
   "display_name": "Python 3 (ipykernel)",
   "language": "python",
   "name": "python3"
  },
  "language_info": {
   "codemirror_mode": {
    "name": "ipython",
    "version": 3
   },
   "file_extension": ".py",
   "mimetype": "text/x-python",
   "name": "python",
   "nbconvert_exporter": "python",
   "pygments_lexer": "ipython3",
   "version": "3.10.8"
  }
 },
 "nbformat": 4,
 "nbformat_minor": 5
}
