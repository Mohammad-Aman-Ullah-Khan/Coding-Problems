{
 "cells": [
  {
   "cell_type": "markdown",
   "id": "881c1eeb",
   "metadata": {},
   "source": [
    "# Coding Problems Solved in Python"
   ]
  },
  {
   "cell_type": "markdown",
   "id": "350f2a11",
   "metadata": {},
   "source": [
    "1.SwapTwoInteger"
   ]
  },
  {
   "cell_type": "code",
   "execution_count": 2,
   "id": "5b824397",
   "metadata": {},
   "outputs": [
    {
     "name": "stdout",
     "output_type": "stream",
     "text": [
      "X is 4 Y is  3\n"
     ]
    }
   ],
   "source": [
    "X,Y = map(int,input(\"enter the numbers\").split())\n",
    "\n",
    "temp = X\n",
    "X = Y\n",
    "Y = temp\n",
    "print(\"X is\",X,\"Y is \",Y)"
   ]
  },
  {
   "cell_type": "markdown",
   "id": "2913c616",
   "metadata": {},
   "source": [
    "2.SwapWithoutTemp"
   ]
  },
  {
   "cell_type": "code",
   "execution_count": 3,
   "id": "2a29836e",
   "metadata": {},
   "outputs": [
    {
     "name": "stdout",
     "output_type": "stream",
     "text": [
      "X is 4 Y is  6\n"
     ]
    }
   ],
   "source": [
    "X,Y = map(int,input(\"enter the numbers\").split())\n",
    "X = X+Y\n",
    "Y = X-Y\n",
    "X= X-Y\n",
    "print(\"X is\",X,\"Y is \",Y)"
   ]
  },
  {
   "cell_type": "markdown",
   "id": "e9ab6a50",
   "metadata": {},
   "source": [
    "3.FindSquareRoot"
   ]
  },
  {
   "cell_type": "markdown",
   "metadata": {},
   "source": []
  }
 ],
 "metadata": {
  "kernelspec": {
   "display_name": "Python 3 (ipykernel)",
   "language": "python",
   "name": "python3"
  },
  "language_info": {
   "codemirror_mode": {
    "name": "ipython",
    "version": 3
   },
   "file_extension": ".py",
   "mimetype": "text/x-python",
   "name": "python",
   "nbconvert_exporter": "python",
   "pygments_lexer": "ipython3",
   "version": "3.10.8"
  }
 },
 "nbformat": 4,
 "nbformat_minor": 5
}
